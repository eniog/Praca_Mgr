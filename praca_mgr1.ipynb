{
  "nbformat": 4,
  "nbformat_minor": 0,
  "metadata": {
    "colab": {
      "name": "praca_mgr1.ipynb",
      "provenance": [],
      "collapsed_sections": [],
      "authorship_tag": "ABX9TyN3HTorwK3Ky0QoYn8/auV0",
      "include_colab_link": true
    },
    "kernelspec": {
      "name": "python3",
      "display_name": "Python 3"
    },
    "language_info": {
      "name": "python"
    }
  },
  "cells": [
    {
      "cell_type": "markdown",
      "metadata": {
        "id": "view-in-github",
        "colab_type": "text"
      },
      "source": [
        "<a href=\"https://colab.research.google.com/github/eniog/Praca_Mgr/blob/main/praca_mgr1.ipynb\" target=\"_parent\"><img src=\"https://colab.research.google.com/assets/colab-badge.svg\" alt=\"Open In Colab\"/></a>"
      ]
    },
    {
      "cell_type": "code",
      "metadata": {
        "colab": {
          "base_uri": "https://localhost:8080/"
        },
        "id": "deOV4_CFqRQb",
        "outputId": "03312b8d-4510-4c63-afd7-c75b6ab7888e"
      },
      "source": [
        "import numpy as np\n",
        "import pandas as pd\n",
        "def monty_hall():\n",
        "\n",
        "    [[selected_door, winning_door]] = np.random.randint(\n",
        "        low=1, high=4, size=(1, 2))\n",
        "\n",
        "    door_options = [1, 2, 3]\n",
        "\n",
        "    if selected_door == winning_door:\n",
        "\n",
        "  # Gdy początkowy wybór zawodnika jest zwycięskimi drzwiami, Monty wybiera losowo z\n",
        "  # z dwóch pozostałych drzwi losowo. W obu pozostałych drzwiach są kozy.   \n",
        "        door_options.remove(selected_door)\n",
        "        open_door = np.random.choice(door_options)\n",
        "\n",
        "        # Drzwi, do których przesiądzie się zawodnik, zawierają kozę.\n",
        "        switching_door = door_options.remove(open_door)\n",
        "    else:\n",
        "\n",
        "         # Gdy początkowy wybór zawodnika nie zawiera samochodu, jego początkowy\n",
        "        # wybór zawiera kozę. Monty otwiera wtedy drugie drzwi zawierające kozę,\n",
        "        # zostawiając samochód za tymi drzwiami.\n",
        "        door_options.remove(selected_door)\n",
        "        door_options.remove(winning_door)\n",
        "        open_door = door_options\n",
        "\n",
        "        switching_door = winning_door\n",
        "\n",
        "    # Wygrana jest oznaczona cyfrą 1, przegrana jest oznaczona cyfrą 0.\n",
        "    if switching_door == winning_door:\n",
        "        switch = 1.\n",
        "        non_switch = 0.\n",
        "    else:\n",
        "        switch = 0.\n",
        "        non_switch = 1.\n",
        "\n",
        "    return switch, non_switch\n",
        "def simulate_monty_hall(simulations):\n",
        "\n",
        "    switching_results = []\n",
        "    not_switching_results = []\n",
        "\n",
        "    for x in range(100):\n",
        "        switch, non_switch = monty_hall()\n",
        "\n",
        "        switching_results.append(switch)\n",
        "        not_switching_results.append(non_switch)\n",
        "\n",
        "    return switching_results, not_switching_results\n",
        "switching_results, not_switching_results = simulate_monty_hall(100000000)\n",
        "\n",
        "\n",
        "print ('The winning percentage when switching was: %s' % str(sum(switching_results) / len(switching_results)))\n",
        "print ('The winning percentage when not switching was %s' % str(sum(not_switching_results) / len(not_switching_results)))\n",
        "\n",
        "X = str(sum(switching_results) / len(switching_results))\n",
        "Y = str(sum(not_switching_results) / len(not_switching_results))\n",
        "print(X)\n",
        "print(Y)\n",
        "switching_results, not_switching_results = simulate_monty_hall(100)\n",
        "df = pd.DataFrame(np.column_stack((switching_results,not_switching_results)) , columns=['switching_win', 'non_switching_win'])\n",
        "df['switch_pct'] = pd.DataFrame.expanding(df['switching_win'], min_periods=1).mean()\n",
        "df['not_switch_pct'] = pd.DataFrame.expanding(df['non_switching_win'], min_periods=1).mean()\n",
        "\n",
        "df = df[['switch_pct', 'not_switch_pct']] * 100\n",
        "df.columns = ['switch doors', 'do not switch doors']\n",
        "\n",
        "# %matplotlib inline\n",
        "# import libs.chart_format as chart_format\n",
        "# reload(chart_format)\n",
        "# fig = chart_format.format_line_chart(df,title = \"winning percentages for each choice\")\n",
        "[[selected_door, winning_door]] = np.random.randint(\n",
        "        low=1, high=4, size=(1, 2))\n",
        "[[selected_door, winning_door]]\n",
        "\n",
        "\n",
        "\n"
      ],
      "execution_count": 11,
      "outputs": [
        {
          "output_type": "stream",
          "name": "stdout",
          "text": [
            "The winning percentage when switching was: 0.63\n",
            "The winning percentage when not switching was 0.37\n",
            "0.63\n",
            "0.37\n"
          ]
        },
        {
          "output_type": "execute_result",
          "data": {
            "text/plain": [
              "[[2, 3]]"
            ]
          },
          "metadata": {},
          "execution_count": 11
        }
      ]
    }
  ]
}